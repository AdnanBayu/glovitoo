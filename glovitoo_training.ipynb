{
  "nbformat": 4,
  "nbformat_minor": 0,
  "metadata": {
    "colab": {
      "provenance": [],
      "authorship_tag": "ABX9TyP/KBBY+U5IFdAVveiGKk1b",
      "include_colab_link": true
    },
    "kernelspec": {
      "name": "python3",
      "display_name": "Python 3"
    },
    "language_info": {
      "name": "python"
    }
  },
  "cells": [
    {
      "cell_type": "markdown",
      "metadata": {
        "id": "view-in-github",
        "colab_type": "text"
      },
      "source": [
        "<a href=\"https://colab.research.google.com/github/tamtemtomm/glovitoo/blob/main/glovitoo_training.ipynb\" target=\"_parent\"><img src=\"https://colab.research.google.com/assets/colab-badge.svg\" alt=\"Open In Colab\"/></a>"
      ]
    },
    {
      "cell_type": "markdown",
      "source": [
        "## Essential Import"
      ],
      "metadata": {
        "id": "YfqwiVN_YiN4"
      }
    },
    {
      "cell_type": "code",
      "source": [
        "# @title <p>Essential Import\n",
        "import os, shutil, json\n",
        "from PIL import Image\n",
        "from zipfile import ZipFile\n",
        "import matplotlib.pyplot as plt\n",
        "import seaborn as sns\n",
        "import numpy as np, pandas as pd, random as rd\n",
        "import warnings\n",
        "warnings.filterwarnings(\"ignore\")"
      ],
      "metadata": {
        "cellView": "form",
        "id": "Z6udXc74U1us"
      },
      "execution_count": 53,
      "outputs": []
    },
    {
      "cell_type": "code",
      "source": [
        "# @title <p>Torch Essential Import\n",
        "import torch\n",
        "import torchvision\n",
        "import torch.nn as nn\n",
        "import torch.nn.functional as F\n",
        "import torchvision.transforms as T\n",
        "from torch.utils.data import Dataset, DataLoader\n",
        "from torchvision import datasets\n",
        "from torchvision.datasets import ImageFolder\n",
        "from torch.utils.tensorboard import SummaryWriter\n",
        "torch.manual_seed(0)\n",
        "device = torch.device('cuda' if torch.cuda.is_available() else 'cpu')"
      ],
      "metadata": {
        "cellView": "form",
        "id": "0x6axOJraP5S"
      },
      "execution_count": 49,
      "outputs": []
    },
    {
      "cell_type": "code",
      "source": [
        "# @title <p> Import kaggle API\n",
        "from google.colab import files\n",
        "files.upload()\n",
        "\n",
        "!unzip data.zip\n",
        "!rm data.zip >& /dev/null"
      ],
      "metadata": {
        "cellView": "form",
        "id": "lIKhIMYIU2r1"
      },
      "execution_count": null,
      "outputs": []
    },
    {
      "cell_type": "markdown",
      "source": [
        "## Preprocessing Import"
      ],
      "metadata": {
        "id": "EYX8HLfYYlJA"
      }
    },
    {
      "cell_type": "code",
      "source": [
        "# @title <p> Get data from the file\n",
        "DATA_DIR  = 'data'\n",
        "DATA_DICT = {}\n",
        "THRESHOLD = 20\n",
        "\n",
        "for letter in os.listdir(DATA_DIR):\n",
        "  for file_data in os.listdir(os.path.join(DATA_DIR, letter)):\n",
        "    with open(os.path.join(DATA_DIR, letter, file_data), 'r') as f:\n",
        "      try :\n",
        "        data = f.read().splitlines()\n",
        "        DATA_DICT[file_data.split('.')[0]] = data\n",
        "      except :\n",
        "        DATA_DICT[file_data.split('.')[0]] = ''\n",
        "\n",
        "del DATA_DICT['']\n",
        "len_array = []\n",
        "for key in DATA_DICT.keys():\n",
        "  if len(DATA_DICT[key]) < THRESHOLD:\n",
        "    print(f'Pop data on {key}')\n",
        "    continue\n",
        "  else :\n",
        "    for i, data in enumerate(DATA_DICT[key]):\n",
        "      try :\n",
        "        DATA_DICT[key][i] = [float(x) for x in data.split(\", \")]\n",
        "      except :\n",
        "        continue\n",
        "\n",
        "  len_array.append(len(DATA_DICT[key]))\n"
      ],
      "metadata": {
        "id": "KZedjJYlVWJt"
      },
      "execution_count": 76,
      "outputs": []
    },
    {
      "cell_type": "code",
      "source": [
        "sns.histplot(len_array)"
      ],
      "metadata": {
        "colab": {
          "base_uri": "https://localhost:8080/",
          "height": 447
        },
        "id": "jYUzaQjhaCkl",
        "outputId": "9ec0a0df-3be7-4541-ecff-8f359a124c3f"
      },
      "execution_count": 77,
      "outputs": [
        {
          "output_type": "execute_result",
          "data": {
            "text/plain": [
              "<Axes: ylabel='Count'>"
            ]
          },
          "metadata": {},
          "execution_count": 77
        },
        {
          "output_type": "display_data",
          "data": {
            "text/plain": [
              "<Figure size 640x480 with 1 Axes>"
            ],
            "image/png": "[encoded data removed]"
          },
          "metadata": {}
        }
      ]
    },
    {
      "cell_type": "code",
      "source": [],
      "metadata": {
        "id": "uPFx59lQawsF"
      },
      "execution_count": null,
      "outputs": []
    }
  ]
}